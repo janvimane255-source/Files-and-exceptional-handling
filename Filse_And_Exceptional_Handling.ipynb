{
  "nbformat": 4,
  "nbformat_minor": 0,
  "metadata": {
    "colab": {
      "provenance": []
    },
    "kernelspec": {
      "name": "python3",
      "display_name": "Python 3"
    },
    "language_info": {
      "name": "python"
    }
  },
  "cells": [
    {
      "cell_type": "markdown",
      "source": [
        "#  Files,exceptional handling,logging and memory management Questions"
      ],
      "metadata": {
        "id": "KiCbycQutbXj"
      }
    },
    {
      "cell_type": "markdown",
      "source": [
        "1. What is the difference between interpreted and compiled languages?\n",
        "\n",
        "- COMPILED LANGUAGES:\n",
        "  are translated entirely into machine code  by a compiler before execution. This results in faster execution and standalone executable files.Example inculde C,C++,Java.\n",
        "\n",
        "- INTERPRETED LANGUAGES:\n",
        "  are translated and executed line-by-line by an interpreter during runtime . This offers greater flexibility and ease of  development but generally results in slower execution.Examples inculde python,javascript,Ruby."
      ],
      "metadata": {
        "id": "W1Xda3Odt2YW"
      }
    },
    {
      "cell_type": "markdown",
      "source": [
        "2. What is exception handling in python?\n",
        "\n",
        "- Exception handling is a mechanism in python to manage and respond to runtime errors(exceptions)that disrupt the normal flow of a program.It involves using try ,except,else,and finally blocks to gracefully handle errors and prevent program crashes."
      ],
      "metadata": {
        "id": "IEfyq7KIuUmU"
      }
    },
    {
      "cell_type": "markdown",
      "source": [
        "3. What is the purpose of the finally block in exception handling?\n",
        "- The finally block in python's exception handling ensures that a specific blocj of code is alaways executed,regardless of whether an exception occured in the  try block or not .It is typically used for cleanup operations like closing files or releasing resource .\n"
      ],
      "metadata": {
        "id": "38HSYbgbubmg"
      }
    },
    {
      "cell_type": "markdown",
      "source": [
        "4. What is logging in python?\n",
        "\n",
        "- Logging in python is a powerful and flexible way to record events that occur during the execution of a program.It allows developers to track the flow of an application ,diagnose issues ,and monitor destinations like files, console,or network."
      ],
      "metadata": {
        "id": "fAQO_vy_ul4v"
      }
    },
    {
      "cell_type": "markdown",
      "source": [
        "  5.What is the significance of the__del__method in python?\n",
        "\n",
        "  - The del method (specifically __del__)is a special method in python classes that defines what happens when an object is about to be destroyed(garbage collected).It is called when an object's reference count drops to zero,allowing for cleanup or resource release before the  object is removed from memory.\n",
        "\n",
        "\n"
      ],
      "metadata": {
        "id": "6xmrRIB1urOq"
      }
    },
    {
      "cell_type": "markdown",
      "source": [
        "6. What is the differens between import and from...import in python?\n",
        "\n",
        "- IMPORT MODULE_NAME:\n",
        "   imports the entire module , requiring you to access its contents using module_name.item.\n",
        "\n",
        "-FROM MODULE_NAME IMPORT ITEM:\n",
        "  imports specific items(functions, classes,variables) directly from a module ,alowing you to use them without the module_name.prefix."
      ],
      "metadata": {
        "id": "CKj45JcXDNCj"
      }
    },
    {
      "cell_type": "markdown",
      "source": [
        "7.How can you handle multiple exceptions in python ?\n",
        "\n",
        "- Multiple exceptions can be handled using multiple except blocks,each targeting a specific exception type.you can also group multiple exception types in a single  except block using a tuple:except (typeerror ,value error) as e."
      ],
      "metadata": {
        "id": "1bGng2gzDY-y"
      }
    },
    {
      "cell_type": "markdown",
      "source": [
        "8. Whate is purpose of the with ststment when handling flies in python?\n",
        "- The with statment in python is used for resource managment,particularly with files,It ensures that resources are properly acquired and released,even if errors occur.When used with files,it automatically handles closing the file ,preventing resource leaks."
      ],
      "metadata": {
        "id": "7rdOju9yDroT"
      }
    },
    {
      "cell_type": "markdown",
      "source": [
        "9. What is the difference between multitherading and multiprocessing?\n",
        "\n",
        "- MULTITHREADING:\n",
        "involves multiple therads of execution within a single process,sharing the same memory space .It is suitable for I/O-bound tasks.\n",
        "\n",
        "- MULTIPROCESSING:\n",
        " involves multiple independent  processes, each with its own memory space .It is suitable for CPU-bound tasks as it can leverage multiple CPU cores."
      ],
      "metadata": {
        "id": "Ly2LOqG6EEYz"
      }
    },
    {
      "cell_type": "markdown",
      "source": [
        "10. What are the advantages of using logging in program?\n",
        "\n",
        "- Debugging:identifying and fixing errors.\n",
        "- Monitoring:Tracking application behaviour and performance.\n",
        "-Auditing:Recording important events for security or compliance.\n",
        "-Flexibility:Configuring log levels and output destinations."
      ],
      "metadata": {
        "id": "FGdw1NxcFBUZ"
      }
    },
    {
      "cell_type": "markdown",
      "source": [
        "11. What is memory management in python?\n",
        "- python's memory management involves a private heap where all python objects and data structures reside.It uses a combination of reference counting and a cyclic garbage  collector to automatically manage memory allocation and deallocation,reclaiming memory no longer in use.  "
      ],
      "metadata": {
        "id": "X__PFUFZFLQ6"
      }
    },
    {
      "cell_type": "markdown",
      "source": [
        "12. Whate are the basic steps involved in exception handling in python?\n",
        "\n",
        "- try block:Enclose the code that might raise an exception.\n",
        "\n",
        " - except block(s):catch and handle specific exceptions if they occur in the try block.\n",
        " - else block (optional) : Executes if no exception occurs in the try block.\n",
        "\n",
        " - finally block (optional):executes regardless of whether an exception occurred or not.\n"
      ],
      "metadata": {
        "id": "3589wuGWFWUM"
      }
    },
    {
      "cell_type": "markdown",
      "source": [
        "13.Why is memory mangement important in python?\n",
        "\n",
        "- Prevent memory leaks: Ensuring unused memory is reclaimed .\n",
        "\n",
        "- Optimize resource usage:Efficiently allocationg and  deallocating memory.\n",
        "\n",
        "- Improve performance:Reducing overhead associated with manual memory management.\n",
        "\n",
        "- Ensure program stability: preventing crashes due to out-of-memory errors."
      ],
      "metadata": {
        "id": "BL2uASo7F4m9"
      }
    },
    {
      "cell_type": "markdown",
      "source": [
        "14 . What is the role of try and except in exception handling?\n",
        "\n",
        " - Role of try and except in exception handling:\n",
        "    \n",
        "    - The try block contains the code that is monitored for exceptions.\n",
        "    - The except block specifies the type of exception to catch and provides the code to execute when that exception occurs."
      ],
      "metadata": {
        "id": "pMC6xkYPGDOQ"
      }
    },
    {
      "cell_type": "markdown",
      "source": [
        "15 . How does python's garbage collection system work?\n",
        "\n",
        "- Reference counting:objects are deallocated When their referece count drops to zero.\n",
        "\n",
        "- Generational garbage collector: A separate collector handles circular references (objects referencing each other) that reference counting cannot resolve."
      ],
      "metadata": {
        "id": "8nuVdGMZGS7S"
      }
    },
    {
      "cell_type": "markdown",
      "source": [
        "16. What is the purpose of the else block in exception handling?\n",
        "\n",
        "- The els block in exception handling is executed  only if the code inside the try block completes without raising any exceptions. It is often used for code that should only run if the \"safe\" part of the try block  was successful.common logging levels in python."
      ],
      "metadata": {
        "id": "ifWh7O4vGdHb"
      }
    },
    {
      "cell_type": "markdown",
      "source": [
        "17. What are the common logging levels in Python?\n",
        "\n",
        "- DEBUG: Detailed information ,typically for debugging.\n",
        "\n",
        "- INFO:Confirmation that thing are working as expected.\n",
        "\n",
        "- WARNING: Due  An indication that something unexpected happened, or indicative of some problem.\n",
        "\n",
        "-ERROR: Due to more serious problem,the software has not been able to perform some function .\n",
        "\n",
        "- CRITICAL: A serious error,indicating that the program itself may be unable to continue running."
      ],
      "metadata": {
        "id": "134OgqLvHct6"
      }
    },
    {
      "cell_type": "markdown",
      "source": [
        "18. What is the difference between os.fork() and multiprocessing in Python?\n",
        "\n",
        "- os.fork(): Creates a new process by duplicating the current  process ,incliding its memory space. It is a lower-level function avalible on Unix-like systems.\n",
        "\n",
        "- multiprocessing module:nprovides a higher-level , cross-platform APl for creating and managing processes,offering features like process,quenues,and pipes for inter-process communication."
      ],
      "metadata": {
        "id": "1h88axnsHgWL"
      }
    },
    {
      "cell_type": "markdown",
      "source": [
        "19.What is the importance of closing a file in Python?\n",
        "\n",
        "-RELEASE RESOURCES:Freeing up system resource held by the open file.\n",
        "\n",
        "- ENSUR data integrity: Flushing any buffered data to disk ,preventing  data loss .\n",
        "\n",
        "- PREVENT RESOURCE LEAKS: Avoiding exchaustion of file handles,which can lead to program instability."
      ],
      "metadata": {
        "id": "sRz6Qq1eHknQ"
      }
    },
    {
      "cell_type": "markdown",
      "source": [
        "20. What is the difference between file.read() and file.readline() in Python?\n",
        "\n",
        "- file.read(): Reads the entire content of the files asa a single string .\n",
        "\n",
        "- file.readline(): Read a single line from the file at a time ,inculding the newline character at the end .\n"
      ],
      "metadata": {
        "id": "j03kmGQjHoxn"
      }
    },
    {
      "cell_type": "markdown",
      "source": [
        "21.What is the logging module in python?\n",
        "\n",
        "-The logging module is an essential part of building maintainable and diagnosable Python programs. It improves visibility into your code’s execution and helps maintain a clear history of what happened, when, and why, whether you are debugging, monitoring, or auditing the application.\n"
      ],
      "metadata": {
        "id": "g2coKmljHseA"
      }
    },
    {
      "cell_type": "markdown",
      "source": [
        "22. What is the os module in python?\n",
        "\n",
        "- The os module in Python is a powerful standard library module that provides a way of using operating system-dependent functionality. When it comes to file handling, the os module helps perform various tasks related to the file system, such as file creation, deletion, navigation, and permission management."
      ],
      "metadata": {
        "id": "k7D9JvwsHxXH"
      }
    },
    {
      "cell_type": "markdown",
      "source": [
        "23. What are the challenges associated with memory management in Python?\n",
        "\n",
        "- Python’s memory management is powerful and automatic, but the above challenges can affect performance and memory efficiency. Understanding these points is crucial when optimizing large or performance-critical Python applications. Developers should use tools like memory profilers and be mindful of creating reference cycles, make use of weak references when appropriate, and consider alternate memory management methods for very specialized needs."
      ],
      "metadata": {
        "id": "cU05m37YH1sT"
      }
    },
    {
      "cell_type": "markdown",
      "source": [
        "24. How do you raise an exception manually in Python?\n",
        "\n",
        "- Use raise ExceptionType(\"message\") to manually throw an exception.\n",
        " - This interrupts normal flow and transfers control to the nearest matching exception handler.\n",
        " - You can raise built-in or custom exceptions.\n"
      ],
      "metadata": {
        "id": "dzDQp-yiH5JZ"
      }
    },
    {
      "cell_type": "code",
      "source": [
        "#Exapmle 1: Raising a built-in Exception\n",
        "raise ValueError(\"This is a manually raised ValueError.\")\n",
        "\n",
        "Here, ExceptionType can be any built-in or user-defined exception class derived from BaseException. The error message (optional) provides additional context.\n"
      ],
      "metadata": {
        "colab": {
          "base_uri": "https://localhost:8080/",
          "height": 158
        },
        "id": "9XMFYwPPxNkY",
        "outputId": "a7b36060-9ae7-4a71-b2cc-8dc794689244"
      },
      "execution_count": 2,
      "outputs": [
        {
          "output_type": "error",
          "ename": "ValueError",
          "evalue": "This is a manually raised ValueError.",
          "traceback": [
            "\u001b[0;31m---------------------------------------------------------------------------\u001b[0m",
            "\u001b[0;31mValueError\u001b[0m                                Traceback (most recent call last)",
            "\u001b[0;32m/tmp/ipython-input-3464344414.py\u001b[0m in \u001b[0;36m<cell line: 0>\u001b[0;34m()\u001b[0m\n\u001b[1;32m      1\u001b[0m \u001b[0;31m#Exapmle 1: Raising a built-in Exception\u001b[0m\u001b[0;34m\u001b[0m\u001b[0;34m\u001b[0m\u001b[0m\n\u001b[0;32m----> 2\u001b[0;31m \u001b[0;32mraise\u001b[0m \u001b[0mValueError\u001b[0m\u001b[0;34m(\u001b[0m\u001b[0;34m\"This is a manually raised ValueError.\"\u001b[0m\u001b[0;34m)\u001b[0m\u001b[0;34m\u001b[0m\u001b[0;34m\u001b[0m\u001b[0m\n\u001b[0m",
            "\u001b[0;31mValueError\u001b[0m: This is a manually raised ValueError."
          ]
        }
      ]
    },
    {
      "cell_type": "markdown",
      "source": [
        "25. Why is it important to use multithreading in certain applications?\n",
        "\n",
        "- While multithreading offers significant benefits, it also introduces challenges such as synchronization issues and potential deadlocks, so it must be implemented carefully to maintain correctness and stability. Nonetheless, for applications requiring concurrency and efficiency, multithreading is a key technique to enhance overall performance and user experience.\n",
        "\n"
      ],
      "metadata": {
        "id": "n-wOPjxuH8gu"
      }
    },
    {
      "cell_type": "markdown",
      "source": [
        "# Practical Questions"
      ],
      "metadata": {
        "id": "QhFrWybQIBlt"
      }
    },
    {
      "cell_type": "markdown",
      "source": [
        "1. How can you open a file for writing in Python and write a string to it?"
      ],
      "metadata": {
        "id": "LDMi9E9qIHf6"
      }
    },
    {
      "cell_type": "code",
      "source": [
        "with open(\"output.txt\", \"w\") as file:\n",
        "    file.write(\"This is a sample string written to the file.\")"
      ],
      "metadata": {
        "id": "QJpjgbhNMvc1"
      },
      "execution_count": null,
      "outputs": []
    },
    {
      "cell_type": "markdown",
      "source": [
        "2 Write a Python program to read the contents of a file and print each line."
      ],
      "metadata": {
        "id": "T72b7oQeIK19"
      }
    },
    {
      "cell_type": "code",
      "source": [
        "with open(\"output.txt\", \"r\") as f:\n",
        "    for line in f:\n",
        "        print(line, end='')"
      ],
      "metadata": {
        "colab": {
          "base_uri": "https://localhost:8080/"
        },
        "id": "lRcox2THNLW4",
        "outputId": "141ea7a3-37ae-48e4-d13a-945b6b336eea"
      },
      "execution_count": null,
      "outputs": [
        {
          "output_type": "stream",
          "name": "stdout",
          "text": [
            "This is a sample string written to the file."
          ]
        }
      ]
    },
    {
      "cell_type": "markdown",
      "source": [
        "3. How would you handle a case where the file doesn't exist while trying to open it for reading?"
      ],
      "metadata": {
        "id": "QzRUtSSMIOMw"
      }
    },
    {
      "cell_type": "code",
      "source": [
        "try:\n",
        "    with open(\"output.txt\", \"r\") as f:\n",
        "        for line in f:\n",
        "            print(line, end='')\n",
        "except FileNotFoundError:\n",
        "    print(\"The file does not exist.\")"
      ],
      "metadata": {
        "colab": {
          "base_uri": "https://localhost:8080/"
        },
        "id": "El5ejyiMNTpl",
        "outputId": "95dad49c-fc54-416d-ac65-c59c773c3013"
      },
      "execution_count": null,
      "outputs": [
        {
          "output_type": "stream",
          "name": "stdout",
          "text": [
            "This is a sample string written to the file."
          ]
        }
      ]
    },
    {
      "cell_type": "markdown",
      "source": [
        "4.  Write a Python script that reads from one file and writes its content to another file."
      ],
      "metadata": {
        "id": "Rc6y2NU5ISgO"
      }
    },
    {
      "cell_type": "code",
      "source": [
        "with open(\"output.txt\", \"r\") as source_file:\n",
        "    content = source_file.read()\n",
        "\n",
        "with open(\"copied_output.txt\", \"w\") as dest_file:\n",
        "    dest_file.write(content)"
      ],
      "metadata": {
        "id": "LGCacdcENWHx"
      },
      "execution_count": null,
      "outputs": []
    },
    {
      "cell_type": "markdown",
      "source": [
        "5.  How would you catch and handle division by zero error in Python?"
      ],
      "metadata": {
        "id": "MYzfy7gMIWsb"
      }
    },
    {
      "cell_type": "code",
      "source": [
        "try:\n",
        "    result = 10 / 0\n",
        "except ZeroDivisionError:\n",
        "    print(\"Error: Division by zero is not allowed.\")"
      ],
      "metadata": {
        "colab": {
          "base_uri": "https://localhost:8080/"
        },
        "id": "stiY3Hz4NhFt",
        "outputId": "d2ead817-8554-446c-885b-bcdbe5d8c4fa"
      },
      "execution_count": null,
      "outputs": [
        {
          "output_type": "stream",
          "name": "stdout",
          "text": [
            "Error: Division by zero is not allowed.\n"
          ]
        }
      ]
    },
    {
      "cell_type": "markdown",
      "source": [
        "6.  Write a Python program that logs an error message to a log file when a division by zero exception occurs."
      ],
      "metadata": {
        "id": "w19dOkr3Ib-e"
      }
    },
    {
      "cell_type": "code",
      "source": [
        "import logging\n",
        "\n",
        "# Configure logging to write to a file\n",
        "logging.basicConfig(filename='error.log', level=logging.ERROR, format='%(asctime)s %(levelname)s:%(message)s')\n",
        "\n",
        "try:\n",
        "\tresult = 10 / 0\n",
        "except ZeroDivisionError as e:\n",
        "\tlogging.error(\"Division by zero occurred: %s\", e)\n",
        "\tprint(\"An error occurred. Check error.log for details.\")"
      ],
      "metadata": {
        "colab": {
          "base_uri": "https://localhost:8080/"
        },
        "id": "BCykEBwWNrfT",
        "outputId": "2809c9b0-3c98-4704-f81b-195e2dda19ef"
      },
      "execution_count": null,
      "outputs": [
        {
          "output_type": "stream",
          "name": "stderr",
          "text": [
            "ERROR:root:Division by zero occurred: division by zero\n"
          ]
        },
        {
          "output_type": "stream",
          "name": "stdout",
          "text": [
            "An error occurred. Check error.log for details.\n"
          ]
        }
      ]
    },
    {
      "cell_type": "markdown",
      "source": [
        "7. How do you log information at different levels (INFO, ERROR, WARNING) in Python using the logging module?"
      ],
      "metadata": {
        "id": "FJN8jwQYIhwH"
      }
    },
    {
      "cell_type": "code",
      "source": [
        "import logging\n",
        "\n",
        "# Set up basic configuration for logging\n",
        "logging.basicConfig(level=logging.INFO, format='%(levelname)s:%(message)s')\n",
        "\n",
        "logging.info(\"This is an info message.\")\n",
        "logging.warning(\"This is a warning message.\")\n",
        "logging.error(\"This is an error message.\")"
      ],
      "metadata": {
        "colab": {
          "base_uri": "https://localhost:8080/"
        },
        "id": "jYlXQjzjN4CE",
        "outputId": "9e363003-b509-4d16-d61a-b6f981ee5d6d"
      },
      "execution_count": null,
      "outputs": [
        {
          "output_type": "stream",
          "name": "stderr",
          "text": [
            "WARNING:root:This is a warning message.\n",
            "ERROR:root:This is an error message.\n"
          ]
        }
      ]
    },
    {
      "cell_type": "markdown",
      "source": [
        "8. Write a program to handle a file opening error using exception handling."
      ],
      "metadata": {
        "id": "IxbOVcuNImCD"
      }
    },
    {
      "cell_type": "code",
      "source": [
        "try:\n",
        "    with open(\"non_existent_file.txt\", \"r\") as f:\n",
        "        content = f.read()\n",
        "        print(content)\n",
        "except FileNotFoundError:\n",
        "    print(\"Error: The file could not be found.\")"
      ],
      "metadata": {
        "colab": {
          "base_uri": "https://localhost:8080/"
        },
        "id": "PIS_ii1OOCIg",
        "outputId": "3312c6eb-54e3-412e-a090-10b1c31caf44"
      },
      "execution_count": null,
      "outputs": [
        {
          "output_type": "stream",
          "name": "stdout",
          "text": [
            "Error: The file could not be found.\n"
          ]
        }
      ]
    },
    {
      "cell_type": "markdown",
      "source": [
        "9. How can you read a file line by line and store its content in a list in Python?"
      ],
      "metadata": {
        "id": "ON0YRATTIqwU"
      }
    },
    {
      "cell_type": "code",
      "source": [
        "with open(\"output.txt\", \"r\") as f:\n",
        "    lines = f.readlines()\n",
        "\n",
        "# lines now contains each line of the file as an element in the list\n",
        "print(lines)"
      ],
      "metadata": {
        "colab": {
          "base_uri": "https://localhost:8080/"
        },
        "id": "rDJ8b2zMOKro",
        "outputId": "7e07a66f-e2cf-4360-eae6-6761e2a3feaf"
      },
      "execution_count": null,
      "outputs": [
        {
          "output_type": "stream",
          "name": "stdout",
          "text": [
            "['This is a sample string written to the file.']\n"
          ]
        }
      ]
    },
    {
      "cell_type": "markdown",
      "source": [
        "10. How can you append data to an existing file in Python?"
      ],
      "metadata": {
        "id": "jV9Mmc98IuOf"
      }
    },
    {
      "cell_type": "code",
      "source": [
        "with open(\"output.txt\", \"a\") as f:\n",
        "    f.write(\"\\nThis is an appended line.\")"
      ],
      "metadata": {
        "id": "ChzVvqC6OW6v"
      },
      "execution_count": null,
      "outputs": []
    },
    {
      "cell_type": "markdown",
      "source": [
        "11. Write a Python program that uses a try-except block to handle an error when attempting to access a\n",
        "dictionary key that doesn't exist."
      ],
      "metadata": {
        "id": "ZNlCEtr5Ixua"
      }
    },
    {
      "cell_type": "code",
      "source": [
        "my_dict={\"name\":\"Alice\",\"age\":30}\n",
        "\n",
        "try:\n",
        "  value=my_dict[\"city\"]\n",
        "  print(value)\n",
        "except KeyError:\n",
        "  print(\"Error: The requested kry dose not exist in the  dictionary.\")"
      ],
      "metadata": {
        "colab": {
          "base_uri": "https://localhost:8080/"
        },
        "id": "ODGpQ9aPbH3N",
        "outputId": "3c2ad282-a36a-4253-dd2f-58b1a6a06c2c"
      },
      "execution_count": null,
      "outputs": [
        {
          "output_type": "stream",
          "name": "stdout",
          "text": [
            "Error: The requested kry dose not exist in the  dictionary.\n"
          ]
        }
      ]
    },
    {
      "cell_type": "markdown",
      "source": [
        "12.Write a program that demonstrates using multiple except blocks to handle different types of exceptions."
      ],
      "metadata": {
        "id": "hCuk-t58I3yK"
      }
    },
    {
      "cell_type": "code",
      "source": [
        "try:\n",
        "  num1=int(input(\"Enter the first number:\"))\n",
        "  num2=int(input(\"Enter the second number:\"))\n",
        "  result=num1/num2\n",
        "  print(f\"The result is :{result}\")\n",
        "except valueError:\n",
        "  print(\"Error:Invalid input.please enter a valid integer.\")\n",
        "except ZeroDivisionError:\n",
        "  print(\"Error:cannot divide by  zero.\")\n",
        "except Exception as e:\n",
        "  print(f\"An unexpected error occurred:{e}\")"
      ],
      "metadata": {
        "id": "xtVg4PdNaDu3",
        "colab": {
          "base_uri": "https://localhost:8080/"
        },
        "outputId": "4700cb44-3cdc-4318-b0d8-0af9e0527773"
      },
      "execution_count": null,
      "outputs": [
        {
          "output_type": "stream",
          "name": "stdout",
          "text": [
            "Enter the first number:20\n",
            "Enter the second number:5\n",
            "The result is :4.0\n"
          ]
        }
      ]
    },
    {
      "cell_type": "markdown",
      "source": [
        "13. How would you check if a file exists before attempting to read it in Python?"
      ],
      "metadata": {
        "id": "NFyt9mHcI7Hr"
      }
    },
    {
      "cell_type": "code",
      "source": [
        "import os\n",
        "\n",
        "file_name=\"my_file.txt\"\n",
        "\n",
        "if os.path.exists(file_name):\n",
        "  try:\n",
        "    with open(file_name,'r')as f:\n",
        "      content=f.read()\n",
        "      print(\"file content\")\n",
        "      print(content)\n",
        "  except IOError:\n",
        "    print(f\"Error:could not read the file'{file_name}'.\")\n",
        "else:\n",
        "  print(f\"Error:The file '{file_name}'does not exist.\")\n"
      ],
      "metadata": {
        "colab": {
          "base_uri": "https://localhost:8080/"
        },
        "id": "LjGiBOBsdYLH",
        "outputId": "22d4d8bb-124d-4438-c780-40619c50c5d7"
      },
      "execution_count": null,
      "outputs": [
        {
          "output_type": "stream",
          "name": "stdout",
          "text": [
            "Error:The file 'my_file.txt'does not exist.\n"
          ]
        }
      ]
    },
    {
      "cell_type": "markdown",
      "source": [
        "14. Write a program that uses the logging module to log both informational and error messages."
      ],
      "metadata": {
        "id": "60F4NdIjJAEs"
      }
    },
    {
      "cell_type": "code",
      "source": [
        "import logging\n",
        "\n",
        "# configure logging\n",
        "logging.basicConfig(filename='app.log',level=logging.INFO,\n",
        "                    format='%(asctimes)s-%(levelnames)s-%(message)s')\n",
        "\n",
        "logging.info(\"This is an informational message.\")\n",
        "try:\n",
        "  result=10/0\n",
        "except ZeroDivisionError:\n",
        "    logging.error(\"Attempted to divide by zero.\",exc_info=True)"
      ],
      "metadata": {
        "colab": {
          "base_uri": "https://localhost:8080/"
        },
        "id": "n4stextne5q3",
        "outputId": "da9e0c72-ca20-49a9-9554-f23688734f6e"
      },
      "execution_count": null,
      "outputs": [
        {
          "output_type": "stream",
          "name": "stderr",
          "text": [
            "ERROR:root:Attempted to divide by zero.\n",
            "Traceback (most recent call last):\n",
            "  File \"/tmp/ipython-input-423140139.py\", line 9, in <cell line: 0>\n",
            "    result=10/0\n",
            "           ~~^~\n",
            "ZeroDivisionError: division by zero\n"
          ]
        }
      ]
    },
    {
      "cell_type": "markdown",
      "source": [
        "15. Write a Python program that prints the content of a file and handles the case when the file is empty."
      ],
      "metadata": {
        "id": "Bo-jJOiNJDPy"
      }
    },
    {
      "cell_type": "code",
      "source": [
        "file_name=\"empty_file.txt\"# You can create  this file and leave it empty\n",
        "\n",
        "try:\n",
        "  with open(file_name,'r')as f:\n",
        "    content = f.read()\n",
        "  if content:\n",
        "    print(\"File content:\")\n",
        "    print(content)\n",
        "  else:\n",
        "    print(f\"The file'{file_name}' is empty.\")\n",
        "except FileNotFoundError:\n",
        "  print(f\"Error:The file'{file_name}'was not found\")\n",
        "except IOError:\n",
        "  print(f\"Error:could not read the file '{file_name}'.\")"
      ],
      "metadata": {
        "id": "6Yo_Yaafg0DF",
        "colab": {
          "base_uri": "https://localhost:8080/"
        },
        "outputId": "3b0d1787-72a6-4dfb-f000-1fa3c3014150"
      },
      "execution_count": null,
      "outputs": [
        {
          "output_type": "stream",
          "name": "stdout",
          "text": [
            "Error:The file'empty_file.txt'was not found\n"
          ]
        }
      ]
    },
    {
      "cell_type": "markdown",
      "source": [
        "16.Demonstrate how to use memory profiling to check the memory usage of a small program."
      ],
      "metadata": {
        "id": "r4ZR6IwoJGsm"
      }
    },
    {
      "cell_type": "code",
      "source": [
        "from memory_profiler import profile\n",
        "\n",
        "@profile\n",
        "def my_function():\n",
        "    a = [1] * (10 ** 6)\n",
        "    b = [2] * (10 ** 6)\n",
        "    del a\n",
        "    del b\n",
        "\n",
        "\n",
        "my_function()"
      ],
      "metadata": {
        "colab": {
          "base_uri": "https://localhost:8080/",
          "height": 383
        },
        "id": "urJBeM3-Ac07",
        "outputId": "3fe5feb3-3f9b-47c3-e3a8-6aecb0d4562a"
      },
      "execution_count": null,
      "outputs": [
        {
          "output_type": "error",
          "ename": "ModuleNotFoundError",
          "evalue": "No module named 'memory_profiler'",
          "traceback": [
            "\u001b[0;31m---------------------------------------------------------------------------\u001b[0m",
            "\u001b[0;31mModuleNotFoundError\u001b[0m                       Traceback (most recent call last)",
            "\u001b[0;32m/tmp/ipython-input-2326539948.py\u001b[0m in \u001b[0;36m<cell line: 0>\u001b[0;34m()\u001b[0m\n\u001b[0;32m----> 1\u001b[0;31m \u001b[0;32mfrom\u001b[0m \u001b[0mmemory_profiler\u001b[0m \u001b[0;32mimport\u001b[0m \u001b[0mprofile\u001b[0m\u001b[0;34m\u001b[0m\u001b[0;34m\u001b[0m\u001b[0m\n\u001b[0m\u001b[1;32m      2\u001b[0m \u001b[0;34m\u001b[0m\u001b[0m\n\u001b[1;32m      3\u001b[0m \u001b[0;34m@\u001b[0m\u001b[0mprofile\u001b[0m\u001b[0;34m\u001b[0m\u001b[0;34m\u001b[0m\u001b[0m\n\u001b[1;32m      4\u001b[0m \u001b[0;32mdef\u001b[0m \u001b[0mmy_function\u001b[0m\u001b[0;34m(\u001b[0m\u001b[0;34m)\u001b[0m\u001b[0;34m:\u001b[0m\u001b[0;34m\u001b[0m\u001b[0;34m\u001b[0m\u001b[0m\n\u001b[1;32m      5\u001b[0m     \u001b[0ma\u001b[0m \u001b[0;34m=\u001b[0m \u001b[0;34m[\u001b[0m\u001b[0;36m1\u001b[0m\u001b[0;34m]\u001b[0m \u001b[0;34m*\u001b[0m \u001b[0;34m(\u001b[0m\u001b[0;36m10\u001b[0m \u001b[0;34m**\u001b[0m \u001b[0;36m6\u001b[0m\u001b[0;34m)\u001b[0m\u001b[0;34m\u001b[0m\u001b[0;34m\u001b[0m\u001b[0m\n",
            "\u001b[0;31mModuleNotFoundError\u001b[0m: No module named 'memory_profiler'",
            "",
            "\u001b[0;31m---------------------------------------------------------------------------\u001b[0;32m\nNOTE: If your import is failing due to a missing package, you can\nmanually install dependencies using either !pip or !apt.\n\nTo view examples of installing some common dependencies, click the\n\"Open Examples\" button below.\n\u001b[0;31m---------------------------------------------------------------------------\u001b[0m\n"
          ],
          "errorDetails": {
            "actions": [
              {
                "action": "open_url",
                "actionText": "Open Examples",
                "url": "/notebooks/snippets/importing_libraries.ipynb"
              }
            ]
          }
        }
      ]
    },
    {
      "cell_type": "markdown",
      "source": [
        "17. Write a Python program to create and write a list of numbers to a file, one number per line."
      ],
      "metadata": {
        "id": "VR4P53VpJKI8"
      }
    },
    {
      "cell_type": "code",
      "source": [
        "numbers=[10,20,30,40,50]\n",
        "file_name= \"numbers.txt\"\n",
        "\n",
        "try:\n",
        "  with open (file_name,'w') as f :\n",
        "    for number in numbers :\n",
        "      f.write(str(number)+'\\n')\n",
        "    print(f\"numbers written to '{file_name}'successfully.\")\n",
        "except IOError:\n",
        "    print(f\"Error:could not write to the  file'{file_name}'.\")"
      ],
      "metadata": {
        "colab": {
          "base_uri": "https://localhost:8080/"
        },
        "id": "kUVP2Xkgws7i",
        "outputId": "8cac3810-7b79-407c-9ce7-d3f45460dcbd"
      },
      "execution_count": null,
      "outputs": [
        {
          "output_type": "stream",
          "name": "stdout",
          "text": [
            "numbers written to 'numbers.txt'successfully.\n"
          ]
        }
      ]
    },
    {
      "cell_type": "markdown",
      "source": [
        "18.How would you implement a basic logging setup that logs to a file with rotation after 1MB?"
      ],
      "metadata": {
        "id": "wB3IXQh3JOgS"
      }
    },
    {
      "cell_type": "code",
      "source": [
        "import logging\n",
        "from logging.handlers import RotatingFileHandler\n",
        "\n",
        "handler = RotatingFileHandler('rotating_logs.log', maxBytes=2000, backupCount=5)\n",
        "logging.basicConfig(handlers=[handler], level=logging.DEBUG)\n",
        "\n",
        "for i in range(100):\n",
        "    logging.debug(f'Debug message {i}')\n"
      ],
      "metadata": {
        "id": "BHVfcZ3j9_wx"
      },
      "execution_count": null,
      "outputs": []
    },
    {
      "cell_type": "markdown",
      "source": [
        "19.Write a program that handles both IndexError and KeyError using a try-except block."
      ],
      "metadata": {
        "id": "qmvYRyT_JVae"
      }
    },
    {
      "cell_type": "code",
      "source": [
        "# Example program to handle IndexError and KeyError\n",
        "try:\n",
        "    # Attempting to access an invalid index in a list\n",
        "    my_list = [1, 2, 3]\n",
        "    print(my_list[5])  # This will raise an IndexError\n",
        "\n",
        "    # Attempting to access a non-existent key in a dictionary\n",
        "    my_dict = {\"a\": 1, \"b\": 2}\n",
        "    print(my_dict[\"c\"])  # This will raise a KeyError\n",
        "\n",
        "except IndexError:\n",
        "    print(\"IndexError: Tried to access an invalid index in the list.\")\n",
        "\n",
        "except KeyError:\n",
        "    print(\"KeyError: Tried to access a non-existent key in the dictionary.\")\n",
        "\n",
        "# Program continues execution\n",
        "print(\"Program execution continues...\")\n"
      ],
      "metadata": {
        "colab": {
          "base_uri": "https://localhost:8080/"
        },
        "id": "FQ5ICeI939Iw",
        "outputId": "a2330dc6-50f9-4142-d9e7-003ccd3bec47"
      },
      "execution_count": null,
      "outputs": [
        {
          "output_type": "stream",
          "name": "stdout",
          "text": [
            "IndexError: Tried to access an invalid index in the list.\n",
            "Program execution continues...\n"
          ]
        }
      ]
    },
    {
      "cell_type": "markdown",
      "source": [
        "20. How would you open a file and read its contents using a context manager in Python?"
      ],
      "metadata": {
        "id": "DWenJGlOJaGz"
      }
    },
    {
      "cell_type": "code",
      "source": [
        "class FileManager:\n",
        "    def __init__(self, filename, mode):\n",
        "        self.filename = filename\n",
        "        self.mode = mode\n",
        "        self.file = None\n",
        "\n",
        "    def __enter__(self):\n",
        "        self.file = open(self.filename, self.mode)\n",
        "        return self.file\n",
        "\n",
        "    def __exit__(self, exc_type, exc_value, exc_traceback):\n",
        "        self.file.close()\n",
        "\n",
        "with FileManager('test.txt', 'w') as f:\n",
        "    f.write('Test')\n",
        "print(f.closed)"
      ],
      "metadata": {
        "colab": {
          "base_uri": "https://localhost:8080/"
        },
        "id": "Z1AjuQWh5jk4",
        "outputId": "02d403b1-87b7-4022-b0fa-9b5ce78a1a5b"
      },
      "execution_count": null,
      "outputs": [
        {
          "output_type": "stream",
          "name": "stdout",
          "text": [
            "True\n"
          ]
        }
      ]
    },
    {
      "cell_type": "markdown",
      "source": [
        "21.Write a Python program that reads a file and prints the number of occurrences of a specific word."
      ],
      "metadata": {
        "id": "3SNBGZx0JhVv"
      }
    },
    {
      "cell_type": "code",
      "source": [
        "import os\n",
        "\n",
        "file_path = 'path/to/your/file.txt'\n",
        "try:\n",
        "    if os.path.getsize(file_path) == 0:\n",
        "        print(\"The file is empty.\")\n",
        "    else:\n",
        "        print(\"The file is not empty.\")\n",
        "except FileNotFoundError:\n",
        "    print(\"The file does not exist.\")"
      ],
      "metadata": {
        "colab": {
          "base_uri": "https://localhost:8080/"
        },
        "outputId": "e5bd6ec7-16ee-4e48-e836-423d8bd33fec",
        "id": "mEqiIqt8-LpA"
      },
      "execution_count": null,
      "outputs": [
        {
          "output_type": "stream",
          "name": "stdout",
          "text": [
            "The file does not exist.\n"
          ]
        }
      ]
    },
    {
      "cell_type": "markdown",
      "source": [
        "22. How can you check if a file is empty before attempting to read its contents?"
      ],
      "metadata": {
        "id": "E62v_j1ZJml9"
      }
    },
    {
      "cell_type": "code",
      "source": [
        "# import required libraries\n",
        "import os\n",
        "\n",
        "# file_path to check whether it is empty\n",
        "file_path = \"/Users/girish/Desktop/GFG Internship/input.txt\"\n",
        "\n",
        "try:\n",
        "    # get the size of file\n",
        "    file_size = os.path.getsize(file_path)\n",
        "\n",
        "    # if file size is 0, it is empty\n",
        "    if file_size == 0:\n",
        "        print(\"File is empty\")\n",
        "    else:\n",
        "        print(\"File is NOT empty\")\n",
        "\n",
        "# if file does not exist, then exception occurs\n",
        "except FileNotFoundError as e:\n",
        "    print(\"File NOT found\")"
      ],
      "metadata": {
        "colab": {
          "base_uri": "https://localhost:8080/"
        },
        "id": "TbWeDONe__aY",
        "outputId": "14fa65d7-57d0-4945-b915-025a3e993d13"
      },
      "execution_count": null,
      "outputs": [
        {
          "output_type": "stream",
          "name": "stdout",
          "text": [
            "File NOT found\n"
          ]
        }
      ]
    },
    {
      "cell_type": "markdown",
      "source": [
        "23. Write a Python program that writes to a log file when an error occurs during file handling."
      ],
      "metadata": {
        "id": "gKYqqbu4Jp35"
      }
    },
    {
      "cell_type": "code",
      "source": [
        "import logging\n",
        "\n",
        "logging.basicConfig(filename=\"gfg-log.log\", filemode=\"w\",\n",
        "                    format=\"%(name)s → %(levelname)s: %(message)s\")\n",
        "\n",
        "logging.warning(\"warning\")\n",
        "\n",
        "logger = logging.getLogger(__name__)\n",
        "FileOutputHandler = logging.FileHandler('logs.log')\n",
        "\n",
        "logger.addHandler(FileOutputHandler)\n",
        "\n",
        "\n",
        "logger.warning(\"test.\")"
      ],
      "metadata": {
        "colab": {
          "base_uri": "https://localhost:8080/"
        },
        "id": "lFcSKiFT6HMP",
        "outputId": "2dbd1257-bf5b-4162-a4a5-79acede93bff"
      },
      "execution_count": null,
      "outputs": [
        {
          "output_type": "stream",
          "name": "stderr",
          "text": [
            "WARNING:root:warning\n",
            "WARNING:__main__:test.\n"
          ]
        }
      ]
    }
  ]
}